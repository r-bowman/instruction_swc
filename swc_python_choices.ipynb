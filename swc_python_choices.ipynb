{
 "cells": [
  {
   "cell_type": "markdown",
   "metadata": {},
   "source": [
    "# Making Choices"
   ]
  },
  {
   "cell_type": "markdown",
   "metadata": {},
   "source": [
    "So we learned about loops and lists and brought them together to look at several files at once. We also talked about using for loops to make our code a little smarter and more flexible. Now we're going to look at another way to make our code a little smart and flexible"
   ]
  },
  {
   "cell_type": "markdown",
   "metadata": {},
   "source": [
    "Conditionals are a way to have our code make decisions based upon certain conditions. We're going to use what is refered to as an if-else statement. Lets get started with the first example to see how this works.\n",
    "\n",
    "_explain statements while typing_"
   ]
  },
  {
   "cell_type": "markdown",
   "metadata": {},
   "source": [
    "Type:\n",
    ">num = 37\n",
    "\n",
    ">if num > 100:\n",
    "\n",
    ">____print('greater')\n",
    "\n",
    ">else:\n",
    "\n",
    ">____print('not greater')\n",
    "\n",
    ">print('done')"
   ]
  },
  {
   "cell_type": "code",
   "execution_count": 1,
   "metadata": {
    "collapsed": false
   },
   "outputs": [
    {
     "name": "stdout",
     "output_type": "stream",
     "text": [
      "not greater\n",
      "done\n"
     ]
    }
   ],
   "source": [
    "num = 37\n",
    "if num > 100:\n",
    "    print('greater')\n",
    "else:\n",
    "    print('not greater')\n",
    "print('done')"
   ]
  },
  {
   "cell_type": "markdown",
   "metadata": {},
   "source": [
    "While it isn't necessary to include an else statement, then Python won't know what to do and thus will do nothing if the test is false. Lets look at an example of this.\n",
    "\n",
    "_explain statements while typing_"
   ]
  },
  {
   "cell_type": "markdown",
   "metadata": {},
   "source": [
    "Type:\n",
    ">num = 53\n",
    "\n",
    ">print('before conditional...')\n",
    "\n",
    ">if num > 100:\n",
    "\n",
    ">____print('53 is greater than 100')\n",
    "\n",
    ">print('...after conditional')"
   ]
  },
  {
   "cell_type": "code",
   "execution_count": 2,
   "metadata": {
    "collapsed": false
   },
   "outputs": [
    {
     "name": "stdout",
     "output_type": "stream",
     "text": [
      "before conditional...\n",
      "...after conditional\n"
     ]
    }
   ],
   "source": [
    "num = 53\n",
    "print('before conditional...')\n",
    "if num > 100:\n",
    "    print('53 is greater than 100')\n",
    "print('...after conditional')"
   ]
  },
  {
   "cell_type": "markdown",
   "metadata": {},
   "source": [
    "Many programs include if-else statements and they usually also include a then element, if-else-then. Python doesn't use then, instead it uses and intervening element else if denoted as elif. Lets use elif.\n",
    "\n",
    "_explain statements while typing and ==. = means assignment == means equal to._"
   ]
  },
  {
   "cell_type": "markdown",
   "metadata": {},
   "source": [
    "Type:\n",
    ">num = -3\n",
    "\n",
    ">if num > 0:\n",
    "\n",
    ">____print(num, \"is positive\")\n",
    "\n",
    ">elif num == 0:\n",
    "\n",
    ">____print(num, \"is zero\")\n",
    "\n",
    ">else:\n",
    "\n",
    ">____print(num, \"is negative\")"
   ]
  },
  {
   "cell_type": "code",
   "execution_count": 4,
   "metadata": {
    "collapsed": false
   },
   "outputs": [
    {
     "name": "stdout",
     "output_type": "stream",
     "text": [
      "-3 is negative\n"
     ]
    }
   ],
   "source": [
    "num = -3\n",
    "\n",
    "if num > 0:\n",
    "    print(num, \"is positive\")\n",
    "elif num == 0:\n",
    "    print(num, \"is zero\")\n",
    "else:\n",
    "    print(num, \"is negative\")"
   ]
  },
  {
   "cell_type": "markdown",
   "metadata": {},
   "source": [
    "We can even check to see if multiple contitions are true by including and or if at least one part is true in our if-else statement. Lets try it.\n",
    "\n",
    "_explain statements while typing._"
   ]
  },
  {
   "cell_type": "markdown",
   "metadata": {},
   "source": [
    "Type:\n",
    ">if (1 > 0) and (-1 > 0):\n",
    "\n",
    ">____print('both parts are true')\n",
    "\n",
    ">else:\n",
    "\n",
    ">____print('at least one part is false')"
   ]
  },
  {
   "cell_type": "code",
   "execution_count": 6,
   "metadata": {
    "collapsed": false
   },
   "outputs": [
    {
     "name": "stdout",
     "output_type": "stream",
     "text": [
      "at least one part is false\n"
     ]
    }
   ],
   "source": [
    "if (1 > 0) and (-1 > 0):\n",
    "    print('both parts are true')\n",
    "else:\n",
    "    print('at least one part is false')"
   ]
  },
  {
   "cell_type": "markdown",
   "metadata": {},
   "source": [
    "and now lets try or..."
   ]
  },
  {
   "cell_type": "markdown",
   "metadata": {},
   "source": [
    "Type:\n",
    ">if (1 < 0) or (-1 < 0):\n",
    "\n",
    ">____print('at least one test is true')"
   ]
  },
  {
   "cell_type": "code",
   "execution_count": 7,
   "metadata": {
    "collapsed": false
   },
   "outputs": [
    {
     "name": "stdout",
     "output_type": "stream",
     "text": [
      "at least one test is true\n"
     ]
    }
   ],
   "source": [
    "if (1 < 0) or (-1 < 0):\n",
    "    print('at least one test is true')"
   ]
  },
  {
   "cell_type": "markdown",
   "metadata": {},
   "source": []
  }
 ],
 "metadata": {
  "kernelspec": {
   "display_name": "Python 3",
   "language": "python",
   "name": "python3"
  },
  "language_info": {
   "codemirror_mode": {
    "name": "ipython",
    "version": 3
   },
   "file_extension": ".py",
   "mimetype": "text/x-python",
   "name": "python",
   "nbconvert_exporter": "python",
   "pygments_lexer": "ipython3",
   "version": "3.5.1"
  }
 },
 "nbformat": 4,
 "nbformat_minor": 0
}
